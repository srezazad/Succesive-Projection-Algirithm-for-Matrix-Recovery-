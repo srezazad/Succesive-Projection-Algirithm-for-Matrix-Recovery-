{
  "nbformat": 4,
  "nbformat_minor": 0,
  "metadata": {
    "colab": {
      "name": "main.ipynb",
      "provenance": [],
      "collapsed_sections": [],
      "authorship_tag": "ABX9TyOUpJh1wuaSJg7JQwx9Dw1o",
      "include_colab_link": true
    },
    "kernelspec": {
      "name": "python3",
      "display_name": "Python 3"
    },
    "language_info": {
      "name": "python"
    },
    "accelerator": "GPU"
  },
  "cells": [
    {
      "cell_type": "markdown",
      "metadata": {
        "id": "view-in-github",
        "colab_type": "text"
      },
      "source": [
        "<a href=\"https://colab.research.google.com/github/srezazad/Succesive-Projection-Algirithm-for-Matrix-Recovery-/blob/main/main.ipynb\" target=\"_parent\"><img src=\"https://colab.research.google.com/assets/colab-badge.svg\" alt=\"Open In Colab\"/></a>"
      ]
    },
    {
      "cell_type": "markdown",
      "metadata": {
        "id": "oG5v5HIiDccM"
      },
      "source": [
        "The seperable matrix $H$ can be written as \n",
        "\\begin{equation}\n",
        "M = WH = W\\cdot [I_r, H'], \\text{ where } W\\in \\mathbb{R}^{m\\times r},\n",
        "\\end{equation}\n",
        "has rank $r$, $H\\in \\mathbb{R}_+^{r\\times n}$, and the sum of each column of $H$ is at most 1. Note that the assumption on the matrix $H$ is made without loss of generality. The following code implements the succesive projection algorithm (SPA). \n"
      ]
    },
    {
      "cell_type": "code",
      "metadata": {
        "id": "f2xzGNir0F9d",
        "colab": {
          "base_uri": "https://localhost:8080/",
          "height": 660
        },
        "outputId": "1a6b0a65-77c5-4240-dd18-8cbf7779110c"
      },
      "source": [
        "import numpy as np \n",
        "import cupy as cp \n",
        "from timeit import default_timer as timer\n",
        "import seaborn as sns\n",
        "import matplotlib.pyplot as plt\n",
        "import cProfile\n",
        "\n",
        "m=100       # % m = number of rows in M = number of features \n",
        "n=50000      # % n = number of columns in M = number of documents\n",
        "r=5    # % r = rank, number of columns in W and number of rows in H\n",
        "nw=50    # % nw: each topic (column of W) will have nw nonzero entries chosen at random.\n",
        "fracdrop=.75  # % fracdrop: fraction between 0 and 1 of number of entries to drop\n",
        "alpha0=.1 # % alpha0: parameter for Dirichlet distribution in generation of H.\n",
        "\n",
        "\n",
        "def test_spa_missing_entries_gpu(m,n,r,nw,fracdrop,alpha0,H):\n",
        "\n",
        "    W_gpu = cp.zeros((m,r))\n",
        "    for j in cp.arange(0,r):\n",
        "\n",
        "        wcol_data = cp.random.rand(nw,1)\n",
        "        wcol_data = wcol_data / cp.sum(wcol_data)  \n",
        "        pr = cp.random.permutation(cp.arange(m))\n",
        "        nws = pr[1:nw+1]\n",
        "        W_gpu[nws, j] = wcol_data.reshape((nw,)) \n",
        "    \n",
        "    H_gpu = cp.random.gamma(shape=alpha0, size=[int(r),int(n)])\n",
        "    H_gpu = H_gpu / cp.sum(H_gpu, axis=0)\n",
        "  \n",
        "    M_gpu = cp.dot(W_gpu, H_gpu)\n",
        "    K_gpu = cp.random.choice([0,1], size=[int(m),int(n)], p = [fracdrop, 1-fracdrop])\n",
        "    M_gpu = cp.multiply(M_gpu,K_gpu)\n",
        "    mxpos = cp.zeros((r,1))\n",
        "\n",
        "    for i in cp.arange(r):\n",
        "\n",
        "        mxpos_val = int(np.argmax(cp.sum(cp.multiply(M_gpu,M_gpu),0)))\n",
        "        mxpos[i] = mxpos_val\n",
        "        \n",
        "        v = M_gpu[:,mxpos_val].reshape(-1,1)\n",
        "        v = v / cp.linalg.norm(v)\n",
        "        M_gpu = cp.subtract(M_gpu, cp.matmul(v, cp.matmul(cp.transpose(v), M_gpu)))\n",
        "\n",
        "    mxpos = [int(i) for [i] in mxpos.tolist()]\n",
        "    H = H_gpu[:, mxpos]\n",
        "    return cp.asnumpy(H)\n",
        "\n",
        "n_tries = 9   \n",
        "fig = plt.figure(figsize=(10,10))\n",
        "\n",
        "for k in np.arange(n_tries):\n",
        "  H = test_spa_missing_entries_gpu(m,n,r,nw,fracdrop,alpha0, H=cp.zeros((3,3)))\n",
        "  plt.subplot(f'33{k}')\n",
        "  ax = sns.heatmap(H, cmap=\"YlGnBu\", cbar=False)\n",
        "  ax.set_xticks([])\n",
        "  ax.set_yticks([])\n",
        "  ax.tick_params(left=False, bottom=False) ## other options are right and top\n",
        "\n",
        "txt=f\"m={m}, n={n}, r={r}, nw={nw}, fracdrop={fracdrop}, alpha = {alpha0}\"\n",
        "plt.figtext(0.5, 0.01, txt, wrap=True, horizontalalignment='center', fontsize=12)\n",
        "plt.show()"
      ],
      "execution_count": 5,
      "outputs": [
        {
          "output_type": "display_data",
          "data": {
            "image/png": "[encoded data removed]",
            "text/plain": [
              "<Figure size 720x720 with 9 Axes>"
            ]
          },
          "metadata": {}
        }
      ]
    },
    {
      "cell_type": "code",
      "metadata": {
        "colab": {
          "base_uri": "https://localhost:8080/",
          "height": 279
        },
        "id": "YM2xxGYEMCIs",
        "outputId": "2041158e-e4e3-4acc-ae71-3563d885b5ac"
      },
      "source": [
        "import cupy as cp \n",
        "import pandas as pd \n",
        "\n",
        "r=2\n",
        "\n",
        "def dirichlet(n=100, alpha=0.1):\n",
        "\n",
        "  H_gpu = cp.random.gamma(shape=alpha, size=[int(r),int(n)])\n",
        "  H_gpu = H_gpu / cp.sum(H_gpu, axis=0)\n",
        "  H = cp.asnumpy(H_gpu)\n",
        "  return pd.DataFrame(H.T, columns=['x','y'])\n",
        "\n",
        "H_d = dirichlet()\n",
        "H_d.plot(x ='x', y='y', kind = 'scatter')\n",
        "plt.show()"
      ],
      "execution_count": 3,
      "outputs": [
        {
          "output_type": "display_data",
          "data": {
            "image/png": "[encoded data removed]",
            "text/plain": [
              "<Figure size 432x288 with 1 Axes>"
            ]
          },
          "metadata": {
            "needs_background": "light"
          }
        }
      ]
    }
  ]
}